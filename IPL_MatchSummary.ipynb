{
 "cells": [
  {
   "cell_type": "code",
   "execution_count": 28,
   "metadata": {},
   "outputs": [
    {
     "name": "stdout",
     "output_type": "stream",
     "text": [
      "          Team 1       Team 2        Winner     Margin     Ground  \\\n",
      "0         Titans  Super Kings        Titans  5 wickets  Ahmedabad   \n",
      "1   Punjab Kings          KKR  Punjab Kings     7 runs     Mohali   \n",
      "2   Super Giants     Capitals  Super Giants    50 runs    Lucknow   \n",
      "3      Sunrisers       Royals        Royals    72 runs  Hyderabad   \n",
      "4            RCB       Mumbai           RCB  8 wickets  Bengaluru   \n",
      "..           ...          ...           ...        ...        ...   \n",
      "69           RCB       Titans        Titans  6 wickets  Bengaluru   \n",
      "70   Super Kings       Titans   Super Kings    15 runs    Chennai   \n",
      "71  Super Giants       Mumbai        Mumbai    81 runs    Chennai   \n",
      "72        Titans       Mumbai        Titans    62 runs  Ahmedabad   \n",
      "73        Titans  Super Kings   Super Kings  5 wickets  Ahmedabad   \n",
      "\n",
      "         Match Date Scorecard  \n",
      "0      Mar 31, 2023  Twenty20  \n",
      "1       Apr 1, 2023  Twenty20  \n",
      "2       Apr 1, 2023  Twenty20  \n",
      "3       Apr 2, 2023  Twenty20  \n",
      "4       Apr 2, 2023  Twenty20  \n",
      "..              ...       ...  \n",
      "69     May 21, 2023  Twenty20  \n",
      "70     May 23, 2023  Twenty20  \n",
      "71     May 24, 2023  Twenty20  \n",
      "72     May 26, 2023  Twenty20  \n",
      "73  May 28-29, 2023  Twenty20  \n",
      "\n",
      "[74 rows x 7 columns]\n"
     ]
    }
   ],
   "source": [
    "import requests\n",
    "from bs4 import BeautifulSoup\n",
    "import pandas as pd\n",
    "url = 'https://www.espncricinfo.com/records/tournament/team-match-results/indian-premier-league-2023-15129'\n",
    "page=requests.get(url)\n",
    "soup=BeautifulSoup(page.text,'html.parser')\n",
    "# print(soup)\n",
    "MatchResults=[]\n",
    "table=soup.find_all('table')[0]\n",
    "for row in table.find_all('tr'):\n",
    "    # print(row)\n",
    "    row_data=[]\n",
    "    for col in row.find_all('td'):\n",
    "        row_data.append(col.text.strip())\n",
    "    MatchResults.append(row_data)\n",
    "df = pd.DataFrame(MatchResults[1:], columns=MatchResults[0])\n",
    "print(df)\n",
    "df.to_csv('C:\\Projects\\web scrapping\\MatchResults.csv')"
   ]
  }
 ],
 "metadata": {
  "kernelspec": {
   "display_name": "Python 3",
   "language": "python",
   "name": "python3"
  },
  "language_info": {
   "codemirror_mode": {
    "name": "ipython",
    "version": 3
   },
   "file_extension": ".py",
   "mimetype": "text/x-python",
   "name": "python",
   "nbconvert_exporter": "python",
   "pygments_lexer": "ipython3",
   "version": "3.11.4"
  }
 },
 "nbformat": 4,
 "nbformat_minor": 2
}
