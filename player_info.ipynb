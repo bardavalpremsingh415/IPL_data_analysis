{
 "cells": [
  {
   "cell_type": "code",
   "execution_count": 53,
   "metadata": {},
   "outputs": [
    {
     "name": "stdout",
     "output_type": "stream",
     "text": [
      "2\n"
     ]
    },
    {
     "ename": "TypeError",
     "evalue": "list indices must be integers or slices, not str",
     "output_type": "error",
     "traceback": [
      "\u001b[1;31m---------------------------------------------------------------------------\u001b[0m",
      "\u001b[1;31mTypeError\u001b[0m                                 Traceback (most recent call last)",
      "\u001b[1;32mc:\\Projects\\web scrapping\\player_info.ipynb Cell 1\u001b[0m line \u001b[0;36m1\n\u001b[0;32m     <a href='vscode-notebook-cell:/c%3A/Projects/web%20scrapping/player_info.ipynb#W0sZmlsZQ%3D%3D?line=15'>16</a>\u001b[0m \u001b[39melse\u001b[39;00m:\n\u001b[0;32m     <a href='vscode-notebook-cell:/c%3A/Projects/web%20scrapping/player_info.ipynb#W0sZmlsZQ%3D%3D?line=16'>17</a>\u001b[0m     \u001b[39mprint\u001b[39m(\u001b[39m2\u001b[39m)\n\u001b[1;32m---> <a href='vscode-notebook-cell:/c%3A/Projects/web%20scrapping/player_info.ipynb#W0sZmlsZQ%3D%3D?line=17'>18</a>\u001b[0m     \u001b[39mprint\u001b[39m(to_player_profile\u001b[39m.\u001b[39;49mfind(\u001b[39m'\u001b[39;49m\u001b[39mtd\u001b[39;49m\u001b[39m'\u001b[39;49m,class_\u001b[39m=\u001b[39;49m\u001b[39m'\u001b[39;49m\u001b[39mds-w-0\u001b[39;49m\u001b[39m'\u001b[39;49m)\u001b[39m.\u001b[39;49mselect(\u001b[39m'\u001b[39;49m\u001b[39ma\u001b[39;49m\u001b[39m'\u001b[39;49m)[\u001b[39m'\u001b[39;49m\u001b[39mhref\u001b[39;49m\u001b[39m'\u001b[39;49m])\n\u001b[0;32m     <a href='vscode-notebook-cell:/c%3A/Projects/web%20scrapping/player_info.ipynb#W0sZmlsZQ%3D%3D?line=18'>19</a>\u001b[0m     player_link\u001b[39m=\u001b[39m\u001b[39m'\u001b[39m\u001b[39mhttps://www.espncricinfo.com\u001b[39m\u001b[39m'\u001b[39m\u001b[39m+\u001b[39mrow\u001b[39m.\u001b[39mfind_all(\u001b[39m'\u001b[39m\u001b[39mtd\u001b[39m\u001b[39m'\u001b[39m,class_\u001b[39m=\u001b[39m\u001b[39m'\u001b[39m\u001b[39mds-w-0\u001b[39m\u001b[39m'\u001b[39m)[\u001b[39m0\u001b[39m]\u001b[39m.\u001b[39mselect(\u001b[39m'\u001b[39m\u001b[39ma\u001b[39m\u001b[39m'\u001b[39m)[\u001b[39m'\u001b[39m\u001b[39mhref\u001b[39m\u001b[39m'\u001b[39m]\n\u001b[0;32m     <a href='vscode-notebook-cell:/c%3A/Projects/web%20scrapping/player_info.ipynb#W0sZmlsZQ%3D%3D?line=19'>20</a>\u001b[0m     player_links\u001b[39m.\u001b[39mappend(player_link)\n",
      "\u001b[1;31mTypeError\u001b[0m: list indices must be integers or slices, not str"
     ]
    }
   ],
   "source": [
    "from bs4 import BeautifulSoup\n",
    "import requests\n",
    "url = 'https://www.espncricinfo.com/records/tournament/team-match-results/indian-premier-league-2023-15129'\n",
    "page=requests.get(url)\n",
    "soup=BeautifulSoup(page.text,'html.parser')\n",
    "player_links=[]\n",
    "table=soup.find_all('table')[0]\n",
    "for row in table.find_all('tr')[1:]:\n",
    "    href='https://www.espncricinfo.com'+row.find_all('td')[-1].find('a')['href']\n",
    "    s1=BeautifulSoup(requests.get(href).text,'html.parser')\n",
    "    in_table=s1.find('table')\n",
    "    for to_player_profile in in_table.find_all('tr')[1:]:\n",
    "        if (to_player_profile.find('td').find('a')==None):\n",
    "            print(1)\n",
    "            pass\n",
    "        else:\n",
    "            print(2)\n",
    "            print(to_player_profile.find('td',class_='ds-w-0')[0].find('a')['href'])\n",
    "            player_link='https://www.espncricinfo.com'+row.find_all('td',class_='ds-w-0')[0].find('a')['href']\n",
    "            player_links.append(player_link)\n",
    "        # print(player_link)\n",
    "    # print(in_table)\n",
    "    break\n",
    "# print(links)"
   ]
  }
 ],
 "metadata": {
  "kernelspec": {
   "display_name": "Python 3",
   "language": "python",
   "name": "python3"
  },
  "language_info": {
   "codemirror_mode": {
    "name": "ipython",
    "version": 3
   },
   "file_extension": ".py",
   "mimetype": "text/x-python",
   "name": "python",
   "nbconvert_exporter": "python",
   "pygments_lexer": "ipython3",
   "version": "3.11.4"
  }
 },
 "nbformat": 4,
 "nbformat_minor": 2
}
